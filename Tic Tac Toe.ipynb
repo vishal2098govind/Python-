{
 "cells": [
  {
   "cell_type": "code",
   "execution_count": 1,
   "metadata": {},
   "outputs": [],
   "source": [
    "def display_board(d):\n",
    "    \n",
    "    print(\"           |            |\\n \"+\"    \"+d[7]+\"     |     \"+d[8]+\"      |     \"+d[9]+\"\\n\"+\"           |            |\\n------------------------------------\")\n",
    "    print(\"           |            |\\n \"+\"    \"+d[4]+\"     |     \"+d[5]+\"      |     \"+d[6]+\"\\n\"+\"           |            |\\n------------------------------------\")\n",
    "    print(\"           |            |\\n \"+\"    \"+d[1]+\"     |     \"+d[2]+\"      |     \"+d[3]+\"\\n\"+\"           |            |\\n\")\n",
    "    "
   ]
  },
  {
   "cell_type": "code",
   "execution_count": 3,
   "metadata": {},
   "outputs": [],
   "source": [
    "def check_winner(lst):\n",
    "    \n",
    "    poss = [\n",
    "        [1, 2, 3],\n",
    "        [4, 5, 6],\n",
    "        [7, 8, 9],\n",
    "        [2, 5, 8],\n",
    "        [1, 4, 7],\n",
    "        [3, 6, 9],\n",
    "        [1, 5, 9],\n",
    "        [3, 5, 7]\n",
    "    ]\n",
    "    \n",
    "    for winner in poss:\n",
    "        if set(winner).issubset(set(lst)):\n",
    "            return True\n",
    "        \n",
    "    return False"
   ]
  },
  {
   "cell_type": "code",
   "execution_count": 4,
   "metadata": {},
   "outputs": [],
   "source": [
    "from IPython.display import clear_output\n",
    "\n",
    "def board_input():\n",
    "    \n",
    "    d = ['0', '1', '2', '3', '4', '5', '6', '7', '8', '9']\n",
    "    clear_output()\n",
    "    display_board(d)\n",
    "    \n",
    "    xo = {'X':[], 'O':[]}\n",
    "    \n",
    "    for _ in range(1,5):\n",
    "        \n",
    "        # Player-1\n",
    "        x = int(input('Enter position for X Player-1 : '))\n",
    "        \n",
    "        d[x] = 'X'\n",
    "        \n",
    "        #print(d)\n",
    "        \n",
    "        xo['X'].append(x) \n",
    "        \n",
    "        #print(xo['X'])\n",
    "        \n",
    "        if check_winner(xo['X']):\n",
    "            clear_output()\n",
    "            display_board(d)\n",
    "            print('Player-1 wins!!')\n",
    "            break\n",
    "        \n",
    "        clear_output()\n",
    "        display_board(d)\n",
    "        \n",
    "        \n",
    "        # Player-2\n",
    "        o = int(input('Enter position for O Player-2 : '))\n",
    "        \n",
    "        d[o] = 'O'\n",
    "        \n",
    "        #print(d)\n",
    "        \n",
    "        xo['O'].append(o)\n",
    "        \n",
    "        #print(xo['O'])\n",
    "        \n",
    "        if check_winner(xo['O']):\n",
    "            clear_output()\n",
    "            display_board(d)\n",
    "            print('Player-2 wins!!')\n",
    "            break\n",
    "        clear_output()\n",
    "        display_board(d)\n",
    "        \n",
    "    else:\n",
    "        x = int(input('Enter position for X Player-1 : '))\n",
    "        d[x] = 'X'\n",
    "        #print(d)\n",
    "        xo['X'].append(x)\n",
    "        #print(xo['X'])\n",
    "        clear_output()\n",
    "        display_board(d)\n",
    "        print(\"DRAW\")"
   ]
  },
  {
   "cell_type": "code",
   "execution_count": 5,
   "metadata": {},
   "outputs": [
    {
     "name": "stdout",
     "output_type": "stream",
     "text": [
      "           |            |\n",
      "     7     |     8      |     X\n",
      "           |            |\n",
      "------------------------------------\n",
      "           |            |\n",
      "     O     |     X      |     6\n",
      "           |            |\n",
      "------------------------------------\n",
      "           |            |\n",
      "     X     |     O      |     3\n",
      "           |            |\n",
      "\n",
      "Player-1 wins!!\n"
     ]
    }
   ],
   "source": [
    "board_input()"
   ]
  },
  {
   "cell_type": "code",
   "execution_count": null,
   "metadata": {},
   "outputs": [],
   "source": []
  }
 ],
 "metadata": {
  "kernelspec": {
   "display_name": "Python 3",
   "language": "python",
   "name": "python3"
  },
  "language_info": {
   "codemirror_mode": {
    "name": "ipython",
    "version": 3
   },
   "file_extension": ".py",
   "mimetype": "text/x-python",
   "name": "python",
   "nbconvert_exporter": "python",
   "pygments_lexer": "ipython3",
   "version": "3.7.4"
  }
 },
 "nbformat": 4,
 "nbformat_minor": 2
}
